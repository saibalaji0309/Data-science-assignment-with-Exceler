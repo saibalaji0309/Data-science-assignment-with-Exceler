{
 "cells": [
  {
   "cell_type": "code",
   "execution_count": 1,
   "id": "8650f156-4553-4a7c-a35b-7c3a51614ae8",
   "metadata": {},
   "outputs": [
    {
     "name": "stdout",
     "output_type": "stream",
     "text": [
      "chi-square statistics 5.638227513227513\n",
      "pvalue 0.22784371130697179\n",
      "Degree of freedom 4\n",
      "H1 is rejected and H0 get accpted\n"
     ]
    },
    {
     "data": {
      "text/plain": [
       "9.49"
      ]
     },
     "execution_count": 1,
     "metadata": {},
     "output_type": "execute_result"
    }
   ],
   "source": [
    "\n",
    "import pandas as pd\n",
    "import numpy as np\n",
    "# importing required librarys to assign the data in table formate\n",
    "\n",
    "on=np.array([[50,70],[80,100],[60,90],[30,50],[20,50]])\n",
    "\n",
    "# for chi-square value we import chi2_contingency from scipy.stats model\n",
    "    \n",
    "from scipy.stats import chi2_contingency\n",
    "chi2,p,dof,exp=chi2_contingency(on)\n",
    "# chi2_contingency() --> returns chi-square value,pvalue,Degrees of freedom,Expected Frequencies\n",
    "\n",
    "print('chi-square statistics',chi2)\n",
    "print('pvalue',p)\n",
    "# number of columns-1 * number of rows-1\n",
    "print('Degree of freedom',dof)\n",
    "pvalue=0.228\n",
    "alpha=0.05\n",
    "\n",
    "if pvalue <alpha:\n",
    "    print('H0 is rejected and H1 get accepted')\n",
    "else:\n",
    "    print('H1 is rejected and H0 get accpted')\n",
    "\n",
    "\n",
    "import scipy .stats as stats\n",
    "crit=stats.chi2.ppf(q=0.95,df=4)\n",
    "crit.round(2)\n",
    "\n"
   ]
  }
 ],
 "metadata": {
  "kernelspec": {
   "display_name": "Python 3 (ipykernel)",
   "language": "python",
   "name": "python3"
  },
  "language_info": {
   "codemirror_mode": {
    "name": "ipython",
    "version": 3
   },
   "file_extension": ".py",
   "mimetype": "text/x-python",
   "name": "python",
   "nbconvert_exporter": "python",
   "pygments_lexer": "ipython3",
   "version": "3.11.7"
  }
 },
 "nbformat": 4,
 "nbformat_minor": 5
}
