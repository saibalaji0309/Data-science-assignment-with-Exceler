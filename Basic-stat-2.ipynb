{
 "cells": [
  {
   "cell_type": "code",
   "execution_count": 1,
   "id": "a8427dce-ea0f-4642-afbf-d1b75f4bd744",
   "metadata": {},
   "outputs": [
    {
     "name": "stdout",
     "output_type": "stream",
     "text": [
      "lower confident intervL  is :  1.1\n",
      "upper confident intervL  is :  1.24\n"
     ]
    }
   ],
   "source": [
    "\n",
    "import numpy as np\n",
    "data=[1.13, 1.55, 1.43, 0.92, 1.25, 1.36, 1.32, 0.85, 1.07, 1.48, 1.20, 1.33, 1.18, 1.22, 1.29]\n",
    "\n",
    "# The area under positive z* value and negative value i.e Confident interval\n",
    "\n",
    "# a. Build 99% Confidence Interval Using Sample Standard Deviation\n",
    "\n",
    "import scipy.stats as stats\n",
    "# for 99% condifent-interval\n",
    "confident_inter=0.99\n",
    "# Degree of freedom\n",
    "dof=len(data)-1\n",
    "t_score=stats.t.ppf((1+confident_inter)/2,dof)\n",
    "# sample mean of the data\n",
    "samp_mean=np.mean(data)\n",
    "# sample Standard deviation\n",
    "std=np.std(data)\n",
    "\n",
    "n=len(data)\n",
    "# x̄ ± t* σ/√n\n",
    "lower_confi_int=(samp_mean-(t_score*(std/np.sqrt(n).round(1)))).round(2)\n",
    "print('lower confident intervL  is : ',lower_confi_int)\n",
    "# lower confident intervL  is : 1.1\n",
    "upper_confi_int=(samp_mean+(t_score*(std/np.sqrt(n)).round(1))).round(2)\n",
    "print('upper confident intervL  is : ',upper_confi_int)\n",
    "# upper confident intervL  is : 1.24\n",
    "\n"
   ]
  },
  {
   "cell_type": "code",
   "execution_count": 3,
   "id": "30a8acc3-b539-4244-a0af-31197c0642c9",
   "metadata": {},
   "outputs": [
    {
     "name": "stdout",
     "output_type": "stream",
     "text": [
      "lower confident intervL  is :  0.871\n",
      "upper confident intervL  is :  1.129\n"
     ]
    }
   ],
   "source": [
    "\n",
    "# b. Build 99% Confidence Interval Using Known Population Standard Deviation\n",
    "\n",
    "# for 99% confident interval we take z* value as +or- 2.58\n",
    "\n",
    "# form the random samples of len(data) and  finding average,Population Standard deviation\n",
    "# sanple size\n",
    "n=len(data)\n",
    "z_val=2.58\n",
    "# sample mean\n",
    "x_bar=np.mean(data).round(0)\n",
    "# total Population Standard deviation\n",
    "given_std=0.2\n",
    "\n",
    "# x̄ ± z* σ/√n\n",
    "lower_confi_int=(x_bar-(z_val*(given_std/np.sqrt(n).round(0)))).round(4)\n",
    "# lower confident intervL  is : 0.8796\n",
    "print('lower confident intervL  is : ',lower_confi_int)\n",
    "\n",
    "upper_confi_int=(x_bar+(z_val*(given_std/np.sqrt(n).round(0)))).round(4)\n",
    "# upper confident intervL  is : 1.1204\n",
    "print('upper confident intervL  is : ',upper_confi_int)\n"
   ]
  }
 ],
 "metadata": {
  "kernelspec": {
   "display_name": "Python 3 (ipykernel)",
   "language": "python",
   "name": "python3"
  },
  "language_info": {
   "codemirror_mode": {
    "name": "ipython",
    "version": 3
   },
   "file_extension": ".py",
   "mimetype": "text/x-python",
   "name": "python",
   "nbconvert_exporter": "python",
   "pygments_lexer": "ipython3",
   "version": "3.11.7"
  }
 },
 "nbformat": 4,
 "nbformat_minor": 5
}
