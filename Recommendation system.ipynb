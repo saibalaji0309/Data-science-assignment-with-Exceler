{
 "cells": [
  {
   "cell_type": "code",
   "execution_count": 1,
   "id": "14e34a90-a89a-4c7b-8e97-d10a6c087ccc",
   "metadata": {},
   "outputs": [
    {
     "data": {
      "text/html": [
       "<div>\n",
       "<style scoped>\n",
       "    .dataframe tbody tr th:only-of-type {\n",
       "        vertical-align: middle;\n",
       "    }\n",
       "\n",
       "    .dataframe tbody tr th {\n",
       "        vertical-align: top;\n",
       "    }\n",
       "\n",
       "    .dataframe thead th {\n",
       "        text-align: right;\n",
       "    }\n",
       "</style>\n",
       "<table border=\"1\" class=\"dataframe\">\n",
       "  <thead>\n",
       "    <tr style=\"text-align: right;\">\n",
       "      <th></th>\n",
       "      <th>anime_id</th>\n",
       "      <th>name</th>\n",
       "      <th>genre</th>\n",
       "      <th>type</th>\n",
       "      <th>episodes</th>\n",
       "      <th>rating</th>\n",
       "      <th>members</th>\n",
       "    </tr>\n",
       "  </thead>\n",
       "  <tbody>\n",
       "    <tr>\n",
       "      <th>0</th>\n",
       "      <td>32281</td>\n",
       "      <td>Kimi no Na wa.</td>\n",
       "      <td>Drama, Romance, School, Supernatural</td>\n",
       "      <td>Movie</td>\n",
       "      <td>1</td>\n",
       "      <td>9.37</td>\n",
       "      <td>200630</td>\n",
       "    </tr>\n",
       "    <tr>\n",
       "      <th>1</th>\n",
       "      <td>5114</td>\n",
       "      <td>Fullmetal Alchemist: Brotherhood</td>\n",
       "      <td>Action, Adventure, Drama, Fantasy, Magic, Mili...</td>\n",
       "      <td>TV</td>\n",
       "      <td>64</td>\n",
       "      <td>9.26</td>\n",
       "      <td>793665</td>\n",
       "    </tr>\n",
       "    <tr>\n",
       "      <th>2</th>\n",
       "      <td>28977</td>\n",
       "      <td>Gintama°</td>\n",
       "      <td>Action, Comedy, Historical, Parody, Samurai, S...</td>\n",
       "      <td>TV</td>\n",
       "      <td>51</td>\n",
       "      <td>9.25</td>\n",
       "      <td>114262</td>\n",
       "    </tr>\n",
       "    <tr>\n",
       "      <th>3</th>\n",
       "      <td>9253</td>\n",
       "      <td>Steins;Gate</td>\n",
       "      <td>Sci-Fi, Thriller</td>\n",
       "      <td>TV</td>\n",
       "      <td>24</td>\n",
       "      <td>9.17</td>\n",
       "      <td>673572</td>\n",
       "    </tr>\n",
       "    <tr>\n",
       "      <th>4</th>\n",
       "      <td>9969</td>\n",
       "      <td>Gintama&amp;#039;</td>\n",
       "      <td>Action, Comedy, Historical, Parody, Samurai, S...</td>\n",
       "      <td>TV</td>\n",
       "      <td>51</td>\n",
       "      <td>9.16</td>\n",
       "      <td>151266</td>\n",
       "    </tr>\n",
       "    <tr>\n",
       "      <th>...</th>\n",
       "      <td>...</td>\n",
       "      <td>...</td>\n",
       "      <td>...</td>\n",
       "      <td>...</td>\n",
       "      <td>...</td>\n",
       "      <td>...</td>\n",
       "      <td>...</td>\n",
       "    </tr>\n",
       "    <tr>\n",
       "      <th>12289</th>\n",
       "      <td>9316</td>\n",
       "      <td>Toushindai My Lover: Minami tai Mecha-Minami</td>\n",
       "      <td>Hentai</td>\n",
       "      <td>OVA</td>\n",
       "      <td>1</td>\n",
       "      <td>4.15</td>\n",
       "      <td>211</td>\n",
       "    </tr>\n",
       "    <tr>\n",
       "      <th>12290</th>\n",
       "      <td>5543</td>\n",
       "      <td>Under World</td>\n",
       "      <td>Hentai</td>\n",
       "      <td>OVA</td>\n",
       "      <td>1</td>\n",
       "      <td>4.28</td>\n",
       "      <td>183</td>\n",
       "    </tr>\n",
       "    <tr>\n",
       "      <th>12291</th>\n",
       "      <td>5621</td>\n",
       "      <td>Violence Gekiga David no Hoshi</td>\n",
       "      <td>Hentai</td>\n",
       "      <td>OVA</td>\n",
       "      <td>4</td>\n",
       "      <td>4.88</td>\n",
       "      <td>219</td>\n",
       "    </tr>\n",
       "    <tr>\n",
       "      <th>12292</th>\n",
       "      <td>6133</td>\n",
       "      <td>Violence Gekiga Shin David no Hoshi: Inma Dens...</td>\n",
       "      <td>Hentai</td>\n",
       "      <td>OVA</td>\n",
       "      <td>1</td>\n",
       "      <td>4.98</td>\n",
       "      <td>175</td>\n",
       "    </tr>\n",
       "    <tr>\n",
       "      <th>12293</th>\n",
       "      <td>26081</td>\n",
       "      <td>Yasuji no Pornorama: Yacchimae!!</td>\n",
       "      <td>Hentai</td>\n",
       "      <td>Movie</td>\n",
       "      <td>1</td>\n",
       "      <td>5.46</td>\n",
       "      <td>142</td>\n",
       "    </tr>\n",
       "  </tbody>\n",
       "</table>\n",
       "<p>12294 rows × 7 columns</p>\n",
       "</div>"
      ],
      "text/plain": [
       "       anime_id                                               name  \\\n",
       "0         32281                                     Kimi no Na wa.   \n",
       "1          5114                   Fullmetal Alchemist: Brotherhood   \n",
       "2         28977                                           Gintama°   \n",
       "3          9253                                        Steins;Gate   \n",
       "4          9969                                      Gintama&#039;   \n",
       "...         ...                                                ...   \n",
       "12289      9316       Toushindai My Lover: Minami tai Mecha-Minami   \n",
       "12290      5543                                        Under World   \n",
       "12291      5621                     Violence Gekiga David no Hoshi   \n",
       "12292      6133  Violence Gekiga Shin David no Hoshi: Inma Dens...   \n",
       "12293     26081                   Yasuji no Pornorama: Yacchimae!!   \n",
       "\n",
       "                                                   genre   type episodes  \\\n",
       "0                   Drama, Romance, School, Supernatural  Movie        1   \n",
       "1      Action, Adventure, Drama, Fantasy, Magic, Mili...     TV       64   \n",
       "2      Action, Comedy, Historical, Parody, Samurai, S...     TV       51   \n",
       "3                                       Sci-Fi, Thriller     TV       24   \n",
       "4      Action, Comedy, Historical, Parody, Samurai, S...     TV       51   \n",
       "...                                                  ...    ...      ...   \n",
       "12289                                             Hentai    OVA        1   \n",
       "12290                                             Hentai    OVA        1   \n",
       "12291                                             Hentai    OVA        4   \n",
       "12292                                             Hentai    OVA        1   \n",
       "12293                                             Hentai  Movie        1   \n",
       "\n",
       "       rating  members  \n",
       "0        9.37   200630  \n",
       "1        9.26   793665  \n",
       "2        9.25   114262  \n",
       "3        9.17   673572  \n",
       "4        9.16   151266  \n",
       "...       ...      ...  \n",
       "12289    4.15      211  \n",
       "12290    4.28      183  \n",
       "12291    4.88      219  \n",
       "12292    4.98      175  \n",
       "12293    5.46      142  \n",
       "\n",
       "[12294 rows x 7 columns]"
      ]
     },
     "execution_count": 1,
     "metadata": {},
     "output_type": "execute_result"
    }
   ],
   "source": [
    "# Data Reading\n",
    "import pandas as pd\n",
    "df=pd.read_csv('anime.csv')\n",
    "\n",
    "df\n"
   ]
  },
  {
   "cell_type": "code",
   "execution_count": 7,
   "id": "580137e0-fe3a-42c6-b5a8-14ed142a5f9f",
   "metadata": {},
   "outputs": [
    {
     "data": {
      "text/plain": [
       "12294"
      ]
     },
     "execution_count": 7,
     "metadata": {},
     "output_type": "execute_result"
    }
   ],
   "source": [
    "len(df['anime_id'].unique())"
   ]
  },
  {
   "cell_type": "code",
   "execution_count": 8,
   "id": "db379d16-aa0b-4a59-9b9f-2889735a2cd0",
   "metadata": {},
   "outputs": [
    {
     "data": {
      "text/plain": [
       "12292"
      ]
     },
     "execution_count": 8,
     "metadata": {},
     "output_type": "execute_result"
    }
   ],
   "source": [
    "len(df['name'].unique())"
   ]
  },
  {
   "cell_type": "code",
   "execution_count": 9,
   "id": "032264fa-a7b3-439c-8abb-2ec30483b00e",
   "metadata": {},
   "outputs": [
    {
     "data": {
      "text/plain": [
       "3265"
      ]
     },
     "execution_count": 9,
     "metadata": {},
     "output_type": "execute_result"
    }
   ],
   "source": [
    "len(df['genre'].unique())"
   ]
  },
  {
   "cell_type": "code",
   "execution_count": 11,
   "id": "1bbdd4f4-ba92-4302-bdd2-d9536984e57d",
   "metadata": {},
   "outputs": [
    {
     "data": {
      "text/plain": [
       "7"
      ]
     },
     "execution_count": 11,
     "metadata": {},
     "output_type": "execute_result"
    }
   ],
   "source": [
    "len(df['type'].unique())"
   ]
  },
  {
   "cell_type": "code",
   "execution_count": 14,
   "id": "2e7a6ad3-5c75-4a60-a792-fbc5dc79b5b2",
   "metadata": {},
   "outputs": [
    {
     "data": {
      "text/plain": [
       "599"
      ]
     },
     "execution_count": 14,
     "metadata": {},
     "output_type": "execute_result"
    }
   ],
   "source": [
    "len(df['rating'].unique())"
   ]
  },
  {
   "cell_type": "code",
   "execution_count": 43,
   "id": "697a4268-a328-4a2a-b278-e3eb893af8f7",
   "metadata": {},
   "outputs": [
    {
     "data": {
      "text/plain": [
       "anime_id      0\n",
       "name          0\n",
       "genre        62\n",
       "type         25\n",
       "episodes      0\n",
       "rating      233\n",
       "members       0\n",
       "dtype: int64"
      ]
     },
     "execution_count": 43,
     "metadata": {},
     "output_type": "execute_result"
    }
   ],
   "source": [
    "# checking any null value present\n",
    "df.isnull().sum()"
   ]
  },
  {
   "cell_type": "code",
   "execution_count": 4,
   "id": "91292d43-d30e-4395-bb26-ec0613a6aa97",
   "metadata": {},
   "outputs": [],
   "source": [
    "df['genre'].fillna('',inplace=True)\n",
    "df['rating'].fillna(df['rating'].mean(),inplace=True)\n",
    "df['type'].fillna('',inplace=True)"
   ]
  },
  {
   "cell_type": "code",
   "execution_count": 5,
   "id": "de1ea22f-219a-4fd5-b8cd-c6a0e2da4aba",
   "metadata": {},
   "outputs": [
    {
     "data": {
      "text/html": [
       "<div>\n",
       "<style scoped>\n",
       "    .dataframe tbody tr th:only-of-type {\n",
       "        vertical-align: middle;\n",
       "    }\n",
       "\n",
       "    .dataframe tbody tr th {\n",
       "        vertical-align: top;\n",
       "    }\n",
       "\n",
       "    .dataframe thead th {\n",
       "        text-align: right;\n",
       "    }\n",
       "</style>\n",
       "<table border=\"1\" class=\"dataframe\">\n",
       "  <thead>\n",
       "    <tr style=\"text-align: right;\">\n",
       "      <th></th>\n",
       "      <th>name</th>\n",
       "      <th>num_rating</th>\n",
       "    </tr>\n",
       "  </thead>\n",
       "  <tbody>\n",
       "    <tr>\n",
       "      <th>0</th>\n",
       "      <td>&amp;quot;0&amp;quot;</td>\n",
       "      <td>1</td>\n",
       "    </tr>\n",
       "    <tr>\n",
       "      <th>1</th>\n",
       "      <td>&amp;quot;Aesop&amp;quot; no Ohanashi yori: Ushi to Ka...</td>\n",
       "      <td>1</td>\n",
       "    </tr>\n",
       "    <tr>\n",
       "      <th>2</th>\n",
       "      <td>&amp;quot;Bungaku Shoujo&amp;quot; Kyou no Oyatsu: Hat...</td>\n",
       "      <td>1</td>\n",
       "    </tr>\n",
       "    <tr>\n",
       "      <th>3</th>\n",
       "      <td>&amp;quot;Bungaku Shoujo&amp;quot; Memoire</td>\n",
       "      <td>1</td>\n",
       "    </tr>\n",
       "    <tr>\n",
       "      <th>4</th>\n",
       "      <td>&amp;quot;Bungaku Shoujo&amp;quot; Movie</td>\n",
       "      <td>1</td>\n",
       "    </tr>\n",
       "    <tr>\n",
       "      <th>...</th>\n",
       "      <td>...</td>\n",
       "      <td>...</td>\n",
       "    </tr>\n",
       "    <tr>\n",
       "      <th>12287</th>\n",
       "      <td>xxxHOLiC Rou</td>\n",
       "      <td>1</td>\n",
       "    </tr>\n",
       "    <tr>\n",
       "      <th>12288</th>\n",
       "      <td>xxxHOLiC Shunmuki</td>\n",
       "      <td>1</td>\n",
       "    </tr>\n",
       "    <tr>\n",
       "      <th>12289</th>\n",
       "      <td>Üks Uks</td>\n",
       "      <td>1</td>\n",
       "    </tr>\n",
       "    <tr>\n",
       "      <th>12290</th>\n",
       "      <td>ēlDLIVE</td>\n",
       "      <td>1</td>\n",
       "    </tr>\n",
       "    <tr>\n",
       "      <th>12291</th>\n",
       "      <td>◯</td>\n",
       "      <td>1</td>\n",
       "    </tr>\n",
       "  </tbody>\n",
       "</table>\n",
       "<p>12292 rows × 2 columns</p>\n",
       "</div>"
      ],
      "text/plain": [
       "                                                    name  num_rating\n",
       "0                                          &quot;0&quot;           1\n",
       "1      &quot;Aesop&quot; no Ohanashi yori: Ushi to Ka...           1\n",
       "2      &quot;Bungaku Shoujo&quot; Kyou no Oyatsu: Hat...           1\n",
       "3                     &quot;Bungaku Shoujo&quot; Memoire           1\n",
       "4                       &quot;Bungaku Shoujo&quot; Movie           1\n",
       "...                                                  ...         ...\n",
       "12287                                       xxxHOLiC Rou           1\n",
       "12288                                  xxxHOLiC Shunmuki           1\n",
       "12289                                            Üks Uks           1\n",
       "12290                                            ēlDLIVE           1\n",
       "12291                                                  ◯           1\n",
       "\n",
       "[12292 rows x 2 columns]"
      ]
     },
     "execution_count": 5,
     "metadata": {},
     "output_type": "execute_result"
    }
   ],
   "source": [
    "num_rating_df=df.groupby('name').count()['rating'].reset_index()\n",
    "num_rating_df.rename(columns={'rating':'num_rating'},inplace=True)\n",
    "num_rating_df"
   ]
  },
  {
   "cell_type": "code",
   "execution_count": 7,
   "id": "4930d5c0-a6aa-4138-a2e8-6165ceb93930",
   "metadata": {},
   "outputs": [
    {
     "data": {
      "text/plain": [
       "array([[1., 0., 0., ..., 0., 0., 0.],\n",
       "       [0., 1., 0., ..., 0., 0., 0.],\n",
       "       [0., 0., 1., ..., 0., 0., 0.],\n",
       "       ...,\n",
       "       [0., 0., 0., ..., 1., 0., 0.],\n",
       "       [0., 0., 0., ..., 0., 1., 0.],\n",
       "       [0., 0., 0., ..., 0., 0., 1.]])"
      ]
     },
     "execution_count": 7,
     "metadata": {},
     "output_type": "execute_result"
    }
   ],
   "source": [
    "user_df = df.pivot(index='anime_id',columns='name',\n",
    "                                 values='rating')\n",
    "user_df\n",
    "user_df.fillna(0, inplace=True)\n",
    "\n",
    "# Calculating Cosine Similarity between Users\n",
    "from sklearn.metrics import pairwise_distances\n",
    "user_sim = 1 - pairwise_distances(user_df.values,metric='cosine')\n",
    "\n",
    "user_sim"
   ]
  },
  {
   "cell_type": "code",
   "execution_count": 10,
   "id": "1eaa9e73-7af9-4902-b820-98e77b9d76c2",
   "metadata": {},
   "outputs": [
    {
     "data": {
      "text/plain": [
       "array([[1., 0., 0., ..., 0., 0., 0.],\n",
       "       [0., 1., 0., ..., 0., 0., 0.],\n",
       "       [0., 0., 1., ..., 0., 0., 0.],\n",
       "       ...,\n",
       "       [0., 0., 0., ..., 1., 0., 0.],\n",
       "       [0., 0., 0., ..., 0., 1., 0.],\n",
       "       [0., 0., 0., ..., 0., 0., 1.]])"
      ]
     },
     "execution_count": 10,
     "metadata": {},
     "output_type": "execute_result"
    }
   ],
   "source": [
    "from sklearn.metrics.pairwise import cosine_similarity\n",
    "\n",
    "similarity_score=cosine_similarity(user_df)\n",
    "similarity_score"
   ]
  },
  {
   "cell_type": "code",
   "execution_count": 8,
   "id": "1331907f-ed9f-4f1e-a4be-6a3c2312fe3b",
   "metadata": {},
   "outputs": [],
   "source": [
    "# Convert 'genre' to numerical representation using one-hot encoding\n",
    "from sklearn.preprocessing import MultiLabelBinarizer\n",
    "\n",
    "mlb = MultiLabelBinarizer()\n",
    "\n",
    "df['genre'] = df['genre'].apply(lambda x: x.split(',') if x else [])\n",
    "genre_encoded = mlb.fit_transform(df['genre'])\n",
    "\n",
    "genre_df = pd.DataFrame(genre_encoded, columns=mlb.classes_)\n",
    "\n",
    "# Combine features\n",
    "features = pd.concat([genre_df, df[['rating']]], axis=1)"
   ]
  },
  {
   "cell_type": "code",
   "execution_count": 11,
   "id": "def5c90c-34b2-4364-8967-aada99e8c27f",
   "metadata": {},
   "outputs": [],
   "source": [
    "from sklearn.model_selection import train_test_split\n",
    "# Compute cosine similarity on training set\n",
    "train, test = train_test_split(df, test_size=0.2, random_state=42)\n",
    "\n",
    "train_features = features.loc[train.index]\n",
    "cos_sim = cosine_similarity(train_features)"
   ]
  },
  {
   "cell_type": "code",
   "execution_count": 12,
   "id": "f34b5521-7074-41b5-9393-9c3a7857f051",
   "metadata": {},
   "outputs": [],
   "source": [
    "# def recommend_anime(anime_id, cosine_sim=cos_sim, df=df, top_n=10):\n",
    "#     if anime_id not in df['anime_id'].values:\n",
    "#         return pd.DataFrame()  # Return empty DataFrame if anime_id not in training set\n",
    "    \n",
    "#     idx = df.index[df['anime_id'] == anime_id].tolist()[0]\n",
    "#     sim_scores = list(enumerate(cosine_sim[idx]))\n",
    "#     sim_scores = sorted(sim_scores, key=lambda x: x[1], reverse=True)\n",
    "#     sim_scores = sim_scores[1:top_n+1]\n",
    "#     anime_indices = [i[0] for i in sim_scores]\n",
    "#     return df[['anime_id', 'name']].iloc[anime_indices]\n",
    "\n",
    "def recommend_anime2(name, cosine_sim=cos_sim, df=df, top_n=10):\n",
    "    if name not in df['name'].values:\n",
    "        return pd.DataFrame()  # Return empty DataFrame if anime_id not in training set\n",
    "    \n",
    "    idx = df.index[df['name'] == name].tolist()[0]\n",
    "    sim_scores = list(enumerate(cosine_sim[idx]))\n",
    "    sim_scores = sorted(sim_scores, key=lambda x: x[1], reverse=True)\n",
    "    sim_scores = sim_scores[1:top_n+1]\n",
    "    anime_indices = [i[0] for i in sim_scores]\n",
    "    return df[['name','rating']].iloc[anime_indices]"
   ]
  },
  {
   "cell_type": "code",
   "execution_count": 13,
   "id": "cc3c5379-dbf3-4778-ac28-82ebe13a0c88",
   "metadata": {},
   "outputs": [
    {
     "name": "stdout",
     "output_type": "stream",
     "text": [
      "                                                   name  rating\n",
      "2132                                Sword Art Online II    7.35\n",
      "4880                      Sakura Taisen: Ecole de Paris    6.61\n",
      "378        Detective Conan Movie 15: Quarter of Silence    8.13\n",
      "1573  Naruto: Shippuuden Movie 3 - Hi no Ishi wo Tsu...    7.50\n",
      "1956                                         Witchblade    7.40\n",
      "1853  Digimon Xros Wars: Aku no Death General to Nan...    7.42\n",
      "4305                                      Winter Garden    6.76\n",
      "7500                                  Nekketsu Uchuujin    5.37\n",
      "8524                                    Entotsuya Peroo    4.60\n",
      "839                                           Minami-ke    7.81\n"
     ]
    }
   ],
   "source": [
    "# recommended_anime = recommend_anime(anime_id=9963, top_n=10)\n",
    "recommended_anime2 = recommend_anime2(name='Uchuu Show e Youkoso', top_n=10)\n",
    "print(recommended_anime2)\n",
    "# print(recommended_anime)"
   ]
  },
  {
   "cell_type": "code",
   "execution_count": 16,
   "id": "802c339e-4e92-4c55-baf9-5104e5938de2",
   "metadata": {},
   "outputs": [
    {
     "name": "stdout",
     "output_type": "stream",
     "text": [
      "Precision: 1.00\n",
      "Recall: 1.00\n",
      "F1-Score: 1.00\n"
     ]
    }
   ],
   "source": [
    "from sklearn.metrics import precision_score,recall_score,f1_score\n",
    "\n",
    "# Split dataset into training and testing sets\n",
    "train, test = train_test_split(df, test_size=0.2, random_state=42)\n",
    "\n",
    "# Initialize lists to store ground truth and predictions\n",
    "ground_truth = []\n",
    "predictions = []\n",
    "\n",
    "# Mean rating to determine relevance\n",
    "mean_rating = train['rating'].mean()\n",
    "\n",
    "for _, row in test.iterrows():\n",
    "    anime_id = row['anime_id']\n",
    "    \n",
    "    # Skip anime not present in the training set\n",
    "    if anime_id not in train['anime_id'].values:\n",
    "        continue\n",
    "    \n",
    "    recommended_anime = recommend_anime(anime_id, top_n=10)\n",
    "    \n",
    "    if recommended_anime.empty:\n",
    "        continue\n",
    "    \n",
    "    actual_ratings = test[test['anime_id'].isin(recommended_anime['anime_id'])]['rating']\n",
    "    true_relevant = (actual_ratings > mean_rating).astype(int).tolist()\n",
    "    \n",
    "    ground_truth.extend(true_relevant)\n",
    "    predictions.extend([1] * len(true_relevant))\n",
    "\n",
    "# Include non-relevant predictions to avoid all 1s in predictions\n",
    "if not predictions:\n",
    "    predictions = [0]\n",
    "\n",
    "# Include non-relevant items in ground truth to avoid all 1s\n",
    "if not ground_truth:\n",
    "    ground_truth = [0]\n",
    "\n",
    "# Compute precision, recall, and F1-score\n",
    "precision = precision_score(ground_truth, predictions, average='macro', zero_division=0)\n",
    "recall = recall_score(ground_truth, predictions, average='macro', zero_division=0)\n",
    "f1 = f1_score(ground_truth, predictions, average='macro', zero_division=0)\n",
    "\n",
    "print(f'Precision: {precision:.2f}')\n",
    "print(f'Recall: {recall:.2f}')\n",
    "print(f'F1-Score: {f1:.2f}')"
   ]
  },
  {
   "cell_type": "code",
   "execution_count": 60,
   "id": "40029be1-92d7-444a-b992-6b2ff63f66e1",
   "metadata": {},
   "outputs": [
    {
     "data": {
      "text/html": [
       "<div>\n",
       "<style scoped>\n",
       "    .dataframe tbody tr th:only-of-type {\n",
       "        vertical-align: middle;\n",
       "    }\n",
       "\n",
       "    .dataframe tbody tr th {\n",
       "        vertical-align: top;\n",
       "    }\n",
       "\n",
       "    .dataframe thead th {\n",
       "        text-align: right;\n",
       "    }\n",
       "</style>\n",
       "<table border=\"1\" class=\"dataframe\">\n",
       "  <thead>\n",
       "    <tr style=\"text-align: right;\">\n",
       "      <th></th>\n",
       "      <th>Support</th>\n",
       "      <th>baseitem</th>\n",
       "      <th>add item</th>\n",
       "      <th>confidence</th>\n",
       "      <th>lift</th>\n",
       "    </tr>\n",
       "  </thead>\n",
       "  <tbody>\n",
       "    <tr>\n",
       "      <th>0</th>\n",
       "      <td>0.031479</td>\n",
       "      <td>2</td>\n",
       "      <td>['Hentai']</td>\n",
       "      <td>0.359665</td>\n",
       "      <td>5.372694</td>\n",
       "    </tr>\n",
       "    <tr>\n",
       "      <th>1</th>\n",
       "      <td>0.013014</td>\n",
       "      <td>25</td>\n",
       "      <td>TV</td>\n",
       "      <td>0.946746</td>\n",
       "      <td>3.073486</td>\n",
       "    </tr>\n",
       "    <tr>\n",
       "      <th>2</th>\n",
       "      <td>0.040508</td>\n",
       "      <td>26</td>\n",
       "      <td>TV</td>\n",
       "      <td>0.961390</td>\n",
       "      <td>3.121027</td>\n",
       "    </tr>\n",
       "    <tr>\n",
       "      <th>3</th>\n",
       "      <td>0.012364</td>\n",
       "      <td>6.473901690981432</td>\n",
       "      <td>Unknown</td>\n",
       "      <td>0.660870</td>\n",
       "      <td>23.896266</td>\n",
       "    </tr>\n",
       "    <tr>\n",
       "      <th>4</th>\n",
       "      <td>0.003823</td>\n",
       "      <td>['Comedy', ' Fantasy', ' Kids']</td>\n",
       "      <td>Movie</td>\n",
       "      <td>0.580247</td>\n",
       "      <td>3.038141</td>\n",
       "    </tr>\n",
       "    <tr>\n",
       "      <th>5</th>\n",
       "      <td>0.010086</td>\n",
       "      <td>['Dementia']</td>\n",
       "      <td>Movie</td>\n",
       "      <td>0.905109</td>\n",
       "      <td>4.739104</td>\n",
       "    </tr>\n",
       "    <tr>\n",
       "      <th>6</th>\n",
       "      <td>0.003416</td>\n",
       "      <td>[]</td>\n",
       "      <td>Movie</td>\n",
       "      <td>0.677419</td>\n",
       "      <td>3.546931</td>\n",
       "    </tr>\n",
       "    <tr>\n",
       "      <th>7</th>\n",
       "      <td>0.006101</td>\n",
       "      <td>['Kids', ' Music']</td>\n",
       "      <td>Music</td>\n",
       "      <td>0.789474</td>\n",
       "      <td>19.888913</td>\n",
       "    </tr>\n",
       "    <tr>\n",
       "      <th>8</th>\n",
       "      <td>0.019684</td>\n",
       "      <td>Music</td>\n",
       "      <td>['Music']</td>\n",
       "      <td>0.495902</td>\n",
       "      <td>20.254534</td>\n",
       "    </tr>\n",
       "  </tbody>\n",
       "</table>\n",
       "</div>"
      ],
      "text/plain": [
       "    Support                         baseitem    add item  confidence  \\\n",
       "0  0.031479                                2  ['Hentai']    0.359665   \n",
       "1  0.013014                               25          TV    0.946746   \n",
       "2  0.040508                               26          TV    0.961390   \n",
       "3  0.012364                6.473901690981432     Unknown    0.660870   \n",
       "4  0.003823  ['Comedy', ' Fantasy', ' Kids']       Movie    0.580247   \n",
       "5  0.010086                     ['Dementia']       Movie    0.905109   \n",
       "6  0.003416                               []       Movie    0.677419   \n",
       "7  0.006101               ['Kids', ' Music']       Music    0.789474   \n",
       "8  0.019684                            Music   ['Music']    0.495902   \n",
       "\n",
       "        lift  \n",
       "0   5.372694  \n",
       "1   3.073486  \n",
       "2   3.121027  \n",
       "3  23.896266  \n",
       "4   3.038141  \n",
       "5   4.739104  \n",
       "6   3.546931  \n",
       "7  19.888913  \n",
       "8  20.254534  "
      ]
     },
     "execution_count": 60,
     "metadata": {},
     "output_type": "execute_result"
    }
   ],
   "source": [
    "trans = []\n",
    "for i in range(0, 12294):\n",
    "  trans.append([str(df.values[i,j]) for j in range(0, 7)])\n",
    "trans\n",
    "\n",
    "len(trans)\n",
    "\n",
    "from apyori import apriori\n",
    "rules = apriori(transactions = trans, \n",
    "                min_support = 0.003, \n",
    "                min_confidence = 0.2, \n",
    "                min_lift = 3, \n",
    "                min_length = 2, \n",
    "                max_length = 2)\n",
    "\n",
    "report = list(rules)\n",
    "len(report)\n",
    "\n",
    "report\n",
    "\n",
    "a=[]\n",
    "b=[]\n",
    "c=[]\n",
    "d=[]\n",
    "e = []\n",
    "\n",
    "for i in range(0,9):\n",
    "    a.append(report[i][1]) # support\n",
    "    b.append(report[i][2][0][0]) # base item\n",
    "    c.append(report[i][2][0][1]) # add item\n",
    "    d.append(report[i][2][0][2]) # confidence\n",
    "    e.append(report[i][2][0][3]) # lift\n",
    "    \n",
    "df_new  = pd.concat([pd.DataFrame(a),\n",
    "          pd.DataFrame(b),\n",
    "          pd.DataFrame(c),\n",
    "          pd.DataFrame(d),\n",
    "          pd.DataFrame(e)],axis=1)\n",
    "\n",
    "df_new.columns = ['Support','baseitem','add item','confidence','lift']\n",
    "df_new\n"
   ]
  },
  {
   "cell_type": "code",
   "execution_count": null,
   "id": "50e00c50-64b5-4d4e-b7fc-5380429caebb",
   "metadata": {},
   "outputs": [],
   "source": [
    "User-Base Collaborative Filtering :\n",
    " Let there is a group of 4 friends and the give a review on movies among them friend1 have seen Joe movie then he is goning to  recommend to there friends.\n",
    "** The similarity group have similarly taste. Finally the User-Base collaborative is a logical approach such that your recommendiation gone work\n",
    "** This work with algorithm like KNN(Nearest Neighbor)\n",
    "\n",
    "Draw-Back:\n",
    "** If anew user is going to come then it is highly impossible to predit /REcommend"
   ]
  },
  {
   "cell_type": "code",
   "execution_count": null,
   "id": "b5057c68-9301-4df2-a6c9-efbfd3756497",
   "metadata": {},
   "outputs": [],
   "source": [
    "Item-Based Collaborative Filtering:\n",
    " Instead of focus on the group, we focus on items from all the products what he going to like\n",
    "** for this we have two tasks:\n",
    "    1) calculate the similarity score -->Cosine Based similarity ,Correlation Based Similarity\n",
    "    2) calculating the prediction --> Weighted sum or Regression\n",
    "Main Difference :\n",
    "** In Item Base  we directly pre-calculate the similarity b/w the co-rated item and shipping"
   ]
  },
  {
   "cell_type": "code",
   "execution_count": null,
   "id": "12ec83f1-e873-48ae-ada3-e33d1dc135ab",
   "metadata": {},
   "outputs": [],
   "source": [
    "Collaborative Filtering:\n",
    "It is a Recommendation algorithm that uses for what item we gone recommend to the user or future recommending \n",
    "** By finding the similarity in the user interaction , it is widely used in e-commers ,streaming and social media platform"
   ]
  }
 ],
 "metadata": {
  "kernelspec": {
   "display_name": "Python 3 (ipykernel)",
   "language": "python",
   "name": "python3"
  },
  "language_info": {
   "codemirror_mode": {
    "name": "ipython",
    "version": 3
   },
   "file_extension": ".py",
   "mimetype": "text/x-python",
   "name": "python",
   "nbconvert_exporter": "python",
   "pygments_lexer": "ipython3",
   "version": "3.11.7"
  }
 },
 "nbformat": 4,
 "nbformat_minor": 5
}
