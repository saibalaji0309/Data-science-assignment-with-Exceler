{
 "cells": [
  {
   "cell_type": "code",
   "execution_count": 1,
   "id": "406d4e1b-597e-4e02-9165-30c6b4c5636f",
   "metadata": {},
   "outputs": [],
   "source": [
    "import numpy as np\n",
    "from scipy.stats import t\n",
    "\n",
    "# Given data\n",
    "\n",
    "sample_mean = 3050  \n",
    "theoretical_mean = 1000 + 5 * 600  \n",
    "population_std = 5 * 25  \n",
    "sample_size = 25  \n",
    "alpha = 0.05  # Significance level"
   ]
  },
  {
   "cell_type": "code",
   "execution_count": 2,
   "id": "02a92263-8108-469e-a514-05f098db40db",
   "metadata": {},
   "outputs": [
    {
     "data": {
      "text/plain": [
       "-38.0"
      ]
     },
     "execution_count": 2,
     "metadata": {},
     "output_type": "execute_result"
    }
   ],
   "source": [
    "# Calculate test statistic (t)\n",
    "t_statistic = (sample_mean - theoretical_mean) / (population_std / np.sqrt(sample_size))\n",
    "t_statistic"
   ]
  },
  {
   "cell_type": "code",
   "execution_count": 3,
   "id": "ec93985b-906f-48e0-bcfa-96b6c9170e85",
   "metadata": {},
   "outputs": [
    {
     "name": "stdout",
     "output_type": "stream",
     "text": [
      "Critical Value: 2.0638985616280205\n"
     ]
    }
   ],
   "source": [
    "from scipy.stats import t\n",
    "\n",
    "alpha = 0.05\n",
    "df = sample_size - 1\n",
    "critical_value = t.ppf(1 - alpha/2, df)\n",
    "\n",
    "print(\"Critical Value:\", critical_value)"
   ]
  },
  {
   "cell_type": "code",
   "execution_count": 4,
   "id": "588a1211-0019-4256-bce7-0fdcd1417ab7",
   "metadata": {},
   "outputs": [
    {
     "name": "stdout",
     "output_type": "stream",
     "text": [
      "Reject Null Hypothesis (H0): The sample mean is equal to the theoretical mean.\n"
     ]
    }
   ],
   "source": [
    "if abs(t_statistic) > critical_value:\n",
    "    print(\"Reject Null Hypothesis (H0): The sample mean is equal to the theoretical mean.\")\n",
    "else:\n",
    "    print(\"Fail to Reject Null Hypothesis (H0):  The sample mean is not equal to the theoretical mean.\")"
   ]
  }
 ],
 "metadata": {
  "kernelspec": {
   "display_name": "Python 3 (ipykernel)",
   "language": "python",
   "name": "python3"
  },
  "language_info": {
   "codemirror_mode": {
    "name": "ipython",
    "version": 3
   },
   "file_extension": ".py",
   "mimetype": "text/x-python",
   "name": "python",
   "nbconvert_exporter": "python",
   "pygments_lexer": "ipython3",
   "version": "3.11.7"
  }
 },
 "nbformat": 4,
 "nbformat_minor": 5
}
